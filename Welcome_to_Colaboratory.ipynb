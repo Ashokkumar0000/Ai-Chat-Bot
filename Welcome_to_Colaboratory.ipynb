{
  "cells": [
    {
      "cell_type": "markdown",
      "metadata": {
        "id": "view-in-github",
        "colab_type": "text"
      },
      "source": [
        "<a href=\"https://colab.research.google.com/github/Ashokkumar0000/Ai-Chat-Bot/blob/main/Welcome_to_Colaboratory.ipynb\" target=\"_parent\"><img src=\"https://colab.research.google.com/assets/colab-badge.svg\" alt=\"Open In Colab\"/></a>"
      ]
    },
    {
      "cell_type": "markdown",
      "metadata": {
        "id": "CEtUeFHM00L_"
      },
      "source": [
        "description: Simple chat bot\n"
      ]
    },
    {
      "cell_type": "code",
      "execution_count": null,
      "metadata": {
        "colab": {
          "base_uri": "https://localhost:8080/"
        },
        "id": "YFeUlIK805Lt",
        "outputId": "81d71fcb-da0a-4dbd-e88b-ab9397902649"
      },
      "outputs": [
        {
          "output_type": "stream",
          "name": "stdout",
          "text": [
            "Requirement already satisfied: nltk in /usr/local/lib/python3.7/dist-packages (3.2.5)\n",
            "Requirement already satisfied: six in /usr/local/lib/python3.7/dist-packages (from nltk) (1.15.0)\n"
          ]
        }
      ],
      "source": [
        "pip install nltk "
      ]
    },
    {
      "cell_type": "code",
      "execution_count": null,
      "metadata": {
        "colab": {
          "base_uri": "https://localhost:8080/"
        },
        "id": "2gL3TjV01Lfe",
        "outputId": "63ac64d7-3150-433a-81d7-2d187acf5c06"
      },
      "outputs": [
        {
          "output_type": "stream",
          "name": "stdout",
          "text": [
            "Requirement already satisfied: newspaper3k in /usr/local/lib/python3.7/dist-packages (0.2.8)\n",
            "Requirement already satisfied: Pillow>=3.3.0 in /usr/local/lib/python3.7/dist-packages (from newspaper3k) (7.1.2)\n",
            "Requirement already satisfied: cssselect>=0.9.2 in /usr/local/lib/python3.7/dist-packages (from newspaper3k) (1.1.0)\n",
            "Requirement already satisfied: jieba3k>=0.35.1 in /usr/local/lib/python3.7/dist-packages (from newspaper3k) (0.35.1)\n",
            "Requirement already satisfied: tinysegmenter==0.3 in /usr/local/lib/python3.7/dist-packages (from newspaper3k) (0.3)\n",
            "Requirement already satisfied: beautifulsoup4>=4.4.1 in /usr/local/lib/python3.7/dist-packages (from newspaper3k) (4.6.3)\n",
            "Requirement already satisfied: lxml>=3.6.0 in /usr/local/lib/python3.7/dist-packages (from newspaper3k) (4.2.6)\n",
            "Requirement already satisfied: nltk>=3.2.1 in /usr/local/lib/python3.7/dist-packages (from newspaper3k) (3.2.5)\n",
            "Requirement already satisfied: tldextract>=2.0.1 in /usr/local/lib/python3.7/dist-packages (from newspaper3k) (3.1.2)\n",
            "Requirement already satisfied: feedfinder2>=0.0.4 in /usr/local/lib/python3.7/dist-packages (from newspaper3k) (0.0.4)\n",
            "Requirement already satisfied: PyYAML>=3.11 in /usr/local/lib/python3.7/dist-packages (from newspaper3k) (3.13)\n",
            "Requirement already satisfied: requests>=2.10.0 in /usr/local/lib/python3.7/dist-packages (from newspaper3k) (2.23.0)\n",
            "Requirement already satisfied: feedparser>=5.2.1 in /usr/local/lib/python3.7/dist-packages (from newspaper3k) (6.0.8)\n",
            "Requirement already satisfied: python-dateutil>=2.5.3 in /usr/local/lib/python3.7/dist-packages (from newspaper3k) (2.8.2)\n",
            "Requirement already satisfied: six in /usr/local/lib/python3.7/dist-packages (from feedfinder2>=0.0.4->newspaper3k) (1.15.0)\n",
            "Requirement already satisfied: sgmllib3k in /usr/local/lib/python3.7/dist-packages (from feedparser>=5.2.1->newspaper3k) (1.0.0)\n",
            "Requirement already satisfied: urllib3!=1.25.0,!=1.25.1,<1.26,>=1.21.1 in /usr/local/lib/python3.7/dist-packages (from requests>=2.10.0->newspaper3k) (1.24.3)\n",
            "Requirement already satisfied: idna<3,>=2.5 in /usr/local/lib/python3.7/dist-packages (from requests>=2.10.0->newspaper3k) (2.10)\n",
            "Requirement already satisfied: chardet<4,>=3.0.2 in /usr/local/lib/python3.7/dist-packages (from requests>=2.10.0->newspaper3k) (3.0.4)\n",
            "Requirement already satisfied: certifi>=2017.4.17 in /usr/local/lib/python3.7/dist-packages (from requests>=2.10.0->newspaper3k) (2021.10.8)\n",
            "Requirement already satisfied: filelock>=3.0.8 in /usr/local/lib/python3.7/dist-packages (from tldextract>=2.0.1->newspaper3k) (3.4.0)\n",
            "Requirement already satisfied: requests-file>=1.4 in /usr/local/lib/python3.7/dist-packages (from tldextract>=2.0.1->newspaper3k) (1.5.1)\n"
          ]
        }
      ],
      "source": [
        "pip install newspaper3k"
      ]
    },
    {
      "cell_type": "code",
      "execution_count": null,
      "metadata": {
        "id": "F_l1S0C41am1"
      },
      "outputs": [],
      "source": [
        "#import the lilbraries\n",
        "from newspaper import Article\n",
        "import random\n",
        "import string\n",
        "import nltk\n",
        "from sklearn.feature_extraction.text import CountVectorizer\n",
        "from sklearn.metrics.pairwise import cosine_similarity\n",
        "import numpy as np\n",
        "import warnings\n",
        "warnings.filterwarnings('ignore')\n"
      ]
    },
    {
      "cell_type": "code",
      "execution_count": null,
      "metadata": {
        "colab": {
          "base_uri": "https://localhost:8080/"
        },
        "id": "fic9mc413FQH",
        "outputId": "88dec784-d32d-4806-a730-10277d228ba4"
      },
      "outputs": [
        {
          "output_type": "execute_result",
          "data": {
            "text/plain": [
              "True"
            ]
          },
          "metadata": {},
          "execution_count": 16
        }
      ],
      "source": [
        "#download the punkt package\n",
        "nltk.download('punkt', quiet= 1)\n"
      ]
    },
    {
      "cell_type": "code",
      "execution_count": null,
      "metadata": {
        "id": "lNa7z_6Q5RmB"
      },
      "outputs": [],
      "source": [
        "#Get the article\n",
        "article = Article('https://en.wikipedia.org/wiki/Data_science')\n",
        "article.download()\n",
        "article.parse()\n",
        "article.nlp()\n",
        "corpus = article.text\n"
      ]
    },
    {
      "cell_type": "code",
      "execution_count": null,
      "metadata": {
        "colab": {
          "base_uri": "https://localhost:8080/"
        },
        "id": "V3nSa8CO6maq",
        "outputId": "b0f33721-fc93-488d-ad44-84845f484106"
      },
      "outputs": [
        {
          "output_type": "stream",
          "name": "stdout",
          "text": [
            "Interdisciplinary field of study focused on deriving knowledge and insights from data\n",
            "\n",
            "Not to be confused with information science\n",
            "\n",
            "Data science is an interdisciplinary field that uses scientific methods, processes, algorithms and systems to extract knowledge and insights from noisy, structured and unstructured data,[1][2] and apply knowledge and actionable insights from data across a broad range of application domains. Data science is related to data mining, machine learning and big data.\n",
            "\n",
            "Data science is a \"concept to unify statistics, data analysis, informatics, and their related methods\" in order to \"understand and analyze actual phenomena\" with data.[3] It uses techniques and theories drawn from many fields within the context of mathematics, statistics, computer science, information science, and domain knowledge. However, data science is different from computer science and information science. Turing Award winner Jim Gray imagined data science as a \"fourth paradigm\" of science (empirical, theoretical, computational, and now data-driven) and asserted that \"everything about science is changing because of the impact of information technology\" and the data deluge.[4][5]\n",
            "\n",
            "A data scientist is someone who creates programming code, and combines it with statistical knowledge to create insights from data.[6]\n",
            "\n",
            "Foundations [ edit ]\n",
            "\n",
            "Data science is an interdisciplinary field focused on extracting knowledge from data sets, which are typically large (see big data), and applying the knowledge and actionable insights from data to solve problems in a wide range of application domains.[7] The field encompasses preparing data for analysis, formulating data science problems, analyzing data, developing data-driven solutions, and presenting findings to inform high-level decisions in a broad range of application domains. As such, it incorporates skills from computer science, statistics, information science, mathematics, information visualization, data sonification, data integration, graphic design, complex systems, communication and business.[8][9] Statistician Nathan Yau, drawing on Ben Fry, also links data science to human-computer interaction: users should be able to intuitively control and explore data.[10][11] In 2015, the American Statistical Association identified database management, statistics and machine learning, and distributed and parallel systems as the three emerging foundational professional communities.[12]\n",
            "\n",
            "Relationship to statistics [ edit ]\n",
            "\n",
            "Many statisticians, including Nate Silver, have argued that data science is not a new field, but rather another name for statistics.[13] Others argue that data science is distinct from statistics because it focuses on problems and techniques unique to digital data.[14] Vasant Dhar writes that statistics emphasizes quantitative data and description. In contrast, data science deals with quantitative and qualitative data (e.g. images) and emphasizes prediction and action.[15] Andrew Gelman of Columbia University has described statistics as a nonessential part of data science.[16] Stanford professor David Donoho writes that data science is not distinguished from statistics by the size of datasets or use of computing, and that many graduate programs misleadingly advertise their analytics and statistics training as the essence of a data science program. He describes data science as an applied field growing out of traditional statistics.[17] In summary, data science can be therefore described as an applied branch of statistics.\n",
            "\n",
            "Etymology [ edit ]\n",
            "\n",
            "Early usage [ edit ]\n",
            "\n",
            "In 1962, John Tukey described a field he called \"data analysis\", which resembles modern data science.[17] In 1985, in a lecture given to the Chinese Academy of Sciences in Beijing, C.F. Jeff Wu used the term Data Science for the first time as an alternative name for statistics.[18] Later, attendees at a 1992 statistics symposium at the University of Montpellier II acknowledged the emergence of a new discipline focused on data of various origins and forms, combining established concepts and principles of statistics and data analysis with computing.[19][20]\n",
            "\n",
            "The term \"data science\" has been traced back to 1974, when Peter Naur proposed it as an alternative name for computer science.[21] In 1996, the International Federation of Classification Societies became the first conference to specifically feature data science as a topic.[21] However, the definition was still in flux. After the 1985 lecture in the Chinese Academy of Sciences in Beijing, in 1997 C.F. Jeff Wu again suggested that statistics should be renamed data science. He reasoned that a new name would help statistics shed inaccurate stereotypes, such as being synonymous with accounting, or limited to describing data.[22] In 1998, Hayashi Chikio argued for data science as a new, interdisciplinary concept, with three aspects: data design, collection, and analysis.[20]\n",
            "\n",
            "During the 1990s, popular terms for the process of finding patterns in datasets (which were increasingly large) included \"knowledge discovery\" and \"data mining\".[23][21]\n",
            "\n",
            "Modern usage [ edit ]\n",
            "\n",
            "The modern conception of data science as an independent discipline is sometimes attributed to William S. Cleveland.[24] In a 2001 paper, he advocated an expansion of statistics beyond theory into technical areas; because this would significantly change the field, it warranted a new name.[23] \"Data science\" became more widely used in the next few years: in 2002, the Committee on Data for Science and Technology launched Data Science Journal. In 2003, Columbia University launched The Journal of Data Science.[23] In 2014, the American Statistical Association's Section on Statistical Learning and Data Mining changed its name to the Section on Statistical Learning and Data Science, reflecting the ascendant popularity of data science.[25]\n",
            "\n",
            "The professional title of \"data scientist\" has been attributed to DJ Patil and Jeff Hammerbacher in 2008.[26] Though it was used by the National Science Board in their 2005 report, \"Long-Lived Digital Data Collections: Enabling Research and Education in the 21st Century,\" it referred broadly to any key role in managing a digital data collection.[27]\n",
            "\n",
            "There is still no consensus on the definition of data science and it is considered by some to be a buzzword.[28]\n",
            "\n",
            "Market [ edit ]\n",
            "\n",
            "Big data is becoming a tool for businesses and companies of all sizes.[29] The availability and interpretation of big data has altered the business models of old industries and enabled the creation of new ones.[29] Data scientists are responsible for breaking down big data into usable information and creating software and algorithms that help companies and organizations determine optimal operations.[30]\n",
            "\n",
            "Technologies and techniques [ edit ]\n",
            "\n",
            "There is a variety of different technologies and techniques that are used for data science which depend on the application. More recently, full-featured, end-to-end platforms have been developed and heavily used for data science and machine learning.\n",
            "\n",
            "Techniques [ edit ]\n",
            "\n",
            "Linear regression\n",
            "\n",
            "Logistic regression\n",
            "\n",
            "Decision trees are used as prediction models for classification and data fitting. The decision tree structure can be used to generate rules able to classify or predict target/class/label variable based on the observation attributes.\n",
            "\n",
            "Support-vector machine (SVM)\n",
            "\n",
            "Cluster analysis is a technique used to group data together.\n",
            "\n",
            "Dimensionality reduction is used to reduce the complexity of data computation so that it can be performed more quickly.\n",
            "\n",
            "Machine learning is a technique used to perform tasks by inferencing patterns from data\n",
            "\n",
            "Naive Bayes classifiers are used to classify by applying the Bayes' theorem. They are mainly used in datasets with large amounts of data, and can aptly generate accurate results.\n",
            "\n",
            "See also [ edit ]\n"
          ]
        }
      ],
      "source": [
        "#print the article text\n",
        "print(corpus)"
      ]
    },
    {
      "cell_type": "code",
      "execution_count": null,
      "metadata": {
        "id": "-gAyif5l7IN5"
      },
      "outputs": [],
      "source": [
        "#tokenization \n",
        "text = corpus\n",
        "sentence_list = nltk.sent_tokenize(text) # a list of sentences"
      ]
    },
    {
      "cell_type": "code",
      "execution_count": null,
      "metadata": {
        "colab": {
          "base_uri": "https://localhost:8080/"
        },
        "id": "e6J-sqsG7s6I",
        "outputId": "1542a238-aa36-4360-9c09-552b8db287e6"
      },
      "outputs": [
        {
          "output_type": "stream",
          "name": "stdout",
          "text": [
            "['Interdisciplinary field of study focused on deriving knowledge and insights from data\\n\\nNot to be confused with information science\\n\\nData science is an interdisciplinary field that uses scientific methods, processes, algorithms and systems to extract knowledge and insights from noisy, structured and unstructured data,[1][2] and apply knowledge and actionable insights from data across a broad range of application domains.', 'Data science is related to data mining, machine learning and big data.', 'Data science is a \"concept to unify statistics, data analysis, informatics, and their related methods\" in order to \"understand and analyze actual phenomena\" with data.', '[3] It uses techniques and theories drawn from many fields within the context of mathematics, statistics, computer science, information science, and domain knowledge.', 'However, data science is different from computer science and information science.', 'Turing Award winner Jim Gray imagined data science as a \"fourth paradigm\" of science (empirical, theoretical, computational, and now data-driven) and asserted that \"everything about science is changing because of the impact of information technology\" and the data deluge.', '[4][5]\\n\\nA data scientist is someone who creates programming code, and combines it with statistical knowledge to create insights from data.', '[6]\\n\\nFoundations [ edit ]\\n\\nData science is an interdisciplinary field focused on extracting knowledge from data sets, which are typically large (see big data), and applying the knowledge and actionable insights from data to solve problems in a wide range of application domains.', '[7] The field encompasses preparing data for analysis, formulating data science problems, analyzing data, developing data-driven solutions, and presenting findings to inform high-level decisions in a broad range of application domains.', 'As such, it incorporates skills from computer science, statistics, information science, mathematics, information visualization, data sonification, data integration, graphic design, complex systems, communication and business.', '[8][9] Statistician Nathan Yau, drawing on Ben Fry, also links data science to human-computer interaction: users should be able to intuitively control and explore data.', '[10][11] In 2015, the American Statistical Association identified database management, statistics and machine learning, and distributed and parallel systems as the three emerging foundational professional communities.', '[12]\\n\\nRelationship to statistics [ edit ]\\n\\nMany statisticians, including Nate Silver, have argued that data science is not a new field, but rather another name for statistics.', '[13] Others argue that data science is distinct from statistics because it focuses on problems and techniques unique to digital data.', '[14] Vasant Dhar writes that statistics emphasizes quantitative data and description.', 'In contrast, data science deals with quantitative and qualitative data (e.g.', 'images) and emphasizes prediction and action.', '[15] Andrew Gelman of Columbia University has described statistics as a nonessential part of data science.', '[16] Stanford professor David Donoho writes that data science is not distinguished from statistics by the size of datasets or use of computing, and that many graduate programs misleadingly advertise their analytics and statistics training as the essence of a data science program.', 'He describes data science as an applied field growing out of traditional statistics.', '[17] In summary, data science can be therefore described as an applied branch of statistics.', 'Etymology [ edit ]\\n\\nEarly usage [ edit ]\\n\\nIn 1962, John Tukey described a field he called \"data analysis\", which resembles modern data science.', '[17] In 1985, in a lecture given to the Chinese Academy of Sciences in Beijing, C.F.', 'Jeff Wu used the term Data Science for the first time as an alternative name for statistics.', '[18] Later, attendees at a 1992 statistics symposium at the University of Montpellier II acknowledged the emergence of a new discipline focused on data of various origins and forms, combining established concepts and principles of statistics and data analysis with computing.', '[19][20]\\n\\nThe term \"data science\" has been traced back to 1974, when Peter Naur proposed it as an alternative name for computer science.', '[21] In 1996, the International Federation of Classification Societies became the first conference to specifically feature data science as a topic.', '[21] However, the definition was still in flux.', 'After the 1985 lecture in the Chinese Academy of Sciences in Beijing, in 1997 C.F.', 'Jeff Wu again suggested that statistics should be renamed data science.', 'He reasoned that a new name would help statistics shed inaccurate stereotypes, such as being synonymous with accounting, or limited to describing data.', '[22] In 1998, Hayashi Chikio argued for data science as a new, interdisciplinary concept, with three aspects: data design, collection, and analysis.', '[20]\\n\\nDuring the 1990s, popular terms for the process of finding patterns in datasets (which were increasingly large) included \"knowledge discovery\" and \"data mining\".', '[23][21]\\n\\nModern usage [ edit ]\\n\\nThe modern conception of data science as an independent discipline is sometimes attributed to William S.', 'Cleveland.', '[24] In a 2001 paper, he advocated an expansion of statistics beyond theory into technical areas; because this would significantly change the field, it warranted a new name.', '[23] \"Data science\" became more widely used in the next few years: in 2002, the Committee on Data for Science and Technology launched Data Science Journal.', 'In 2003, Columbia University launched The Journal of Data Science.', \"[23] In 2014, the American Statistical Association's Section on Statistical Learning and Data Mining changed its name to the Section on Statistical Learning and Data Science, reflecting the ascendant popularity of data science.\", '[25]\\n\\nThe professional title of \"data scientist\" has been attributed to DJ Patil and Jeff Hammerbacher in 2008.', '[26] Though it was used by the National Science Board in their 2005 report, \"Long-Lived Digital Data Collections: Enabling Research and Education in the 21st Century,\" it referred broadly to any key role in managing a digital data collection.', '[27]\\n\\nThere is still no consensus on the definition of data science and it is considered by some to be a buzzword.', '[28]\\n\\nMarket [ edit ]\\n\\nBig data is becoming a tool for businesses and companies of all sizes.', '[29] The availability and interpretation of big data has altered the business models of old industries and enabled the creation of new ones.', '[29] Data scientists are responsible for breaking down big data into usable information and creating software and algorithms that help companies and organizations determine optimal operations.', '[30]\\n\\nTechnologies and techniques [ edit ]\\n\\nThere is a variety of different technologies and techniques that are used for data science which depend on the application.', 'More recently, full-featured, end-to-end platforms have been developed and heavily used for data science and machine learning.', 'Techniques [ edit ]\\n\\nLinear regression\\n\\nLogistic regression\\n\\nDecision trees are used as prediction models for classification and data fitting.', 'The decision tree structure can be used to generate rules able to classify or predict target/class/label variable based on the observation attributes.', 'Support-vector machine (SVM)\\n\\nCluster analysis is a technique used to group data together.', 'Dimensionality reduction is used to reduce the complexity of data computation so that it can be performed more quickly.', \"Machine learning is a technique used to perform tasks by inferencing patterns from data\\n\\nNaive Bayes classifiers are used to classify by applying the Bayes' theorem.\", 'They are mainly used in datasets with large amounts of data, and can aptly generate accurate results.', 'See also [ edit ]']\n"
          ]
        }
      ],
      "source": [
        "#print the list of sentences \n",
        "print(sentence_list)"
      ]
    },
    {
      "cell_type": "code",
      "execution_count": null,
      "metadata": {
        "id": "IiynjBc88K1J"
      },
      "outputs": [],
      "source": [
        "# a function to return a random greeting response to a user greeting\n",
        "def greeting_response(text):\n",
        "  text = text.lower()\n",
        "  #bot greeting response \n",
        "  bot_greetings = ['hi', 'hey', 'hello' + ' How may i help you sir.']\n",
        "\n",
        "  #user greeting \n",
        "  user_greetings= ['hi', 'hello', 'hey'] \n",
        "  \n",
        "\n",
        "\n",
        "  for word in text.split():\n",
        "    if word in user_greetings:\n",
        "      return random.choice(bot_greetings)\n",
        "\n",
        "     \n",
        "\n",
        "\n",
        "      "
      ]
    },
    {
      "cell_type": "code",
      "execution_count": null,
      "metadata": {
        "id": "D62s4mJRpIcr"
      },
      "outputs": [],
      "source": [
        "def index_sort(list_var):\n",
        "  length = len(list_var)\n",
        "  list_index = list(range(0, length))\n",
        "\n",
        "  x = list_var\n",
        "  for i in range(length):\n",
        "    for j in range(length):\n",
        "      if x[list_index[i]] > x[list_index[j]]:\n",
        "        #swap\n",
        "        temp = list_index[i]\n",
        "        list_index[i] = list_index[j]\n",
        "        list_index[j] = temp\n",
        "  return list_index\n"
      ]
    },
    {
      "cell_type": "code",
      "execution_count": null,
      "metadata": {
        "id": "go0KBfSxnmpc"
      },
      "outputs": [],
      "source": [
        "#create the bot response\n",
        "def bot_response(user_input):\n",
        "  user_input = user_input.lower()\n",
        "  sentence_list.append(user_input)\n",
        "  bot_response = ''\n",
        "  cm = CountVectorizer().fit_transform(sentence_list)\n",
        "  similarity_scores = cosine_similarity(cm[-1], cm)\n",
        "  similarity_scores_list = similarity_scores.flatten()\n",
        "  index = index_sort(similarity_scores_list)\n",
        "  index = index[1:]\n",
        "  response_flag = 0\n",
        "\n",
        "  j = 0\n",
        "  for i in range(len(index)):\n",
        "    if similarity_scores_list[index[i]] > 0.0:\n",
        "      bot_response = bot_response+ ' '+sentence_list[index[i]]\n",
        "      response_flag = 1\n",
        "      j = j+1\n",
        "    if j > 2:\n",
        "      break\n",
        "\n",
        "    if response_flag == 0:\n",
        "      bot_response =bot_response+'I apologize i did not understand.'\n",
        "\n",
        "    sentence_list.remove(user_input)\n",
        "\n",
        "    return bot_response"
      ]
    },
    {
      "cell_type": "code",
      "execution_count": null,
      "metadata": {
        "id": "iBomc2todTtO",
        "colab": {
          "base_uri": "https://localhost:8080/"
        },
        "outputId": "5208b994-dd43-4ea4-9dc2-6b18a48103e2"
      },
      "outputs": [
        {
          "output_type": "stream",
          "name": "stdout",
          "text": [
            "Bot: I am your chat bot. I will answer your all queries about data science. If you want to exit type bye. \n",
            "hi\n",
            "Bot: hello How may i help you sir.\n",
            "kldhhjdnlk\n",
            "Bot: I apologize i did not understand.\n",
            "tell me about data science\n",
            "Bot:  However, data science is different from computer science and information science.\n",
            "more about data science\n",
            "Bot:  [23] \"Data science\" became more widely used in the next few years: in 2002, the Committee on Data for Science and Technology launched Data Science Journal.\n",
            "bye\n",
            "Bot: Goodbye! chat with you later !\n"
          ]
        }
      ],
      "source": [
        "#start the chat\n",
        "print('Bot: I am your chat bot. I will answer your all queries about data science. If you want to exit type bye. ')\n",
        "\n",
        "exit_list = ['exit', 'see you later', 'bye', 'goodbye']\n",
        "\n",
        "\n",
        "while(1):\n",
        "  user_input = input()\n",
        "  if user_input.lower() in exit_list:\n",
        "    print('Bot: Goodbye! chat with you later !')\n",
        "    break\n",
        "  else:\n",
        "    if greeting_response(user_input) != None:\n",
        "      print('Bot: ' +greeting_response(user_input))\n",
        "    else:\n",
        "     print('Bot: '+bot_response(user_input))\n"
      ]
    }
  ],
  "metadata": {
    "colab": {
      "collapsed_sections": [],
      "name": "Copy of Copy of Copy of Welcome to Colaboratory",
      "provenance": [],
      "toc_visible": true,
      "include_colab_link": true
    },
    "kernelspec": {
      "display_name": "Python 3",
      "name": "python3"
    }
  },
  "nbformat": 4,
  "nbformat_minor": 0
}